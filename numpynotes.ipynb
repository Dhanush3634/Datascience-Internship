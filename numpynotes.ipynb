{
 "cells": [
  {
   "cell_type": "code",
   "execution_count": 49,
   "id": "88be65c7",
   "metadata": {},
   "outputs": [
    {
     "name": "stdout",
     "output_type": "stream",
     "text": [
      "[1 2 3 4 5]\n",
      "1.21.5\n",
      "<class 'numpy.ndarray'>\n",
      "[[1 2]\n",
      " [3 4]]\n",
      "number of dimensions : 2\n",
      "second element from the arrays is: [3 4]\n",
      "slicing the array: [2 3 4]\n",
      "[1 2 3 4]\n",
      "int32\n",
      "[b'5.1' b'678.1' b'3444.1']\n",
      "|S32\n",
      "None\n",
      "[  42.   678.1 3444.1]\n",
      "[  42.   678.1 3444.1]\n",
      "[[[[[1 2 3 4]]]]]\n",
      "shape of array : (1, 1, 1, 1, 4)\n",
      "iterating 2d array:- [[1 2]\n",
      " [3 4]]\n",
      "iterating 2d array:- [[1 2]\n",
      " [3 4]]\n",
      "joining two arrays:- [1 2 3 4 5 6]\n",
      "spliting the array:- [array([[[[[1, 2, 3, 4]]]]]), array([], shape=(0, 1, 1, 1, 4), dtype=int32)]\n",
      "(array([0, 0], dtype=int64), array([0, 0], dtype=int64), array([0, 0], dtype=int64), array([0, 0], dtype=int64), array([0, 2], dtype=int64))\n",
      "['apple' 'banana' 'cherry']\n"
     ]
    }
   ],
   "source": [
    "import numpy as np\n",
    "arr=np.array([1,2,3,4,5])\n",
    "print(arr)\n",
    "#The version string is stored under __version__ attribute.\n",
    "print(np.__version__)\n",
    "#type(): This built-in Python function tells us the type of the object passed to it\n",
    "print(type(arr))\n",
    "#An array that has 1-D arrays as its elements is called a 2-D array.\n",
    "a=np.array([[1,2],[3,4]])\n",
    "print(a)\n",
    "#ndim attribute that returns an integer that tells us how many dimensions the array have.\n",
    "print('number of dimensions :',a.ndim)\n",
    "print(\"second element from the arrays is:\",a[1])\n",
    "#Slicing arrays\n",
    "#We pass slice instead of index like this: [start:end]\n",
    "#We can also define the step, like this: [start:end:step]\n",
    "print(\"slicing the array:\",arr[1:4])\n",
    "print(arr[:4])\n",
    "#dtype that returns the data type of the array\n",
    "print(arr.dtype)\n",
    "b = np.array([5.1, 678.1, 3444.1])\n",
    "#astype() function creates a copy of the array, and allows you to specify the data type as a parameter.\n",
    "newarr = b.astype('S')\n",
    "print(newarr)\n",
    "print(newarr.dtype)\n",
    "\n",
    "x = b.copy()\n",
    "g=x.view()\n",
    "g[2]=455\n",
    "b[0] = 42\n",
    "#base  attribute refers to the original object\n",
    "x = b.copy()\n",
    "g = b.view()\n",
    "print(x.base)\n",
    "print(g.base)\n",
    "print(b)\n",
    "arr = np.array([1, 2, 3, 4], ndmin=5)\n",
    "print(arr)\n",
    "#shape that returns a tuple with each index having the number of corresponding elements.\n",
    "print('shape of array :', arr.shape)\n",
    "#iterating the arrays\n",
    "\n",
    "for x in a:\n",
    "    print(\"iterating 2d array:-\",a)\n",
    "#joining two arrays using concatinating()\n",
    "arr1 = np.array([1, 2, 3])\n",
    "arr2 = np.array([4, 5, 6])\n",
    "arr3 = np.concatenate((arr1, arr2))\n",
    "print(\"joining two arrays:-\",arr3)\n",
    "#array_split() for splitting arrays, we pass it the array we want to split and the number of splits.\n",
    "newarr = np.array_split(arr, 2)\n",
    "print(\"spliting the array:-\",newarr)\n",
    "#You can search an array for a certain value, and return the indexes that get a match.To search an array, use the where() method.\n",
    "v= np.where(arr%2 == 1)\n",
    "print(v)\n",
    "#Sorting means putting elements in an ordered sequence.\n",
    "sus = np.array(['banana', 'cherry', 'apple'])\n",
    "print(np.sort(sus))\n",
    "\n",
    "\n"
   ]
  },
  {
   "cell_type": "code",
   "execution_count": 50,
   "id": "af3a982f",
   "metadata": {},
   "outputs": [
    {
     "name": "stdout",
     "output_type": "stream",
     "text": [
      "[False, True, False, True, False, True, False]\n",
      "[2 4 6]\n"
     ]
    }
   ],
   "source": [
    "#Getting some elements out of an existing array and creating a new array out of them is called filtering.\n",
    "import numpy as np\n",
    "arr = np.array([1, 2, 3, 4, 5, 6, 7])\n",
    "# Create an empty list\n",
    "filter_arr = []\n",
    "# go through each element in arr\n",
    "for element in arr:\n",
    "  # if the element is completely divisble by 2, set the value to True, otherwise False\n",
    "  if element % 2 == 0:\n",
    "    filter_arr.append(True)\n",
    "  else:\n",
    "    filter_arr.append(False)\n",
    "\n",
    "newarr = arr[filter_arr]\n",
    "\n",
    "print(filter_arr)\n",
    "print(newarr)"
   ]
  },
  {
   "cell_type": "code",
   "execution_count": 54,
   "id": "3ab24102",
   "metadata": {},
   "outputs": [
    {
     "name": "stdout",
     "output_type": "stream",
     "text": [
      "35\n",
      "0.49873831742788566\n",
      "[52 77 88  7 90]\n"
     ]
    }
   ],
   "source": [
    "#Numpy random\n",
    "from numpy import random\n",
    "x = random.randint(100)\n",
    "#rand() method returns a random float between 0 and 1.\n",
    "y = random.rand()\n",
    "#randint() method takes a size parameter where you can specify the shape of an array.\n",
    "z=random.randint(100, size=(5))\n",
    "print(x)\n",
    "print(y)\n",
    "print(z)"
   ]
  },
  {
   "cell_type": "code",
   "execution_count": 59,
   "id": "e4854f50",
   "metadata": {},
   "outputs": [
    {
     "name": "stdout",
     "output_type": "stream",
     "text": [
      "[[7 7 7 5 5]\n",
      " [5 7 7 5 7]\n",
      " [7 5 5 5 7]]\n"
     ]
    }
   ],
   "source": [
    "#choice() method allows us to specify the probability for each value.\n",
    "from numpy import random\n",
    "x = random.choice([3, 5, 7, 9], p=[0.1, 0.3, 0.6, 0.0], size=(3,5))\n",
    "print(x)"
   ]
  },
  {
   "cell_type": "code",
   "execution_count": 63,
   "id": "8079748e",
   "metadata": {},
   "outputs": [
    {
     "name": "stdout",
     "output_type": "stream",
     "text": [
      "[3 1 5 2 4]\n",
      "[  18   14   11 2021   12]\n"
     ]
    }
   ],
   "source": [
    "#Shuffle means changing arrangement of elements in-place. i.e. in the array itself.\n",
    "#shuffle() method makes changes to the original array.\n",
    "#permutation() method returns a re-arranged array (and leaves the original array un-changed).\n",
    "from numpy import random\n",
    "import numpy as np\n",
    "arr = np.array([1, 2, 3, 4, 5])\n",
    "arr1=np.array([11,14,18,12,2021])\n",
    "random.shuffle(arr)\n",
    "random.permutation(arr1)\n",
    "print(arr)\n",
    "print(random.permutation(arr1))\n"
   ]
  },
  {
   "cell_type": "code",
   "execution_count": 64,
   "id": "3749f4de",
   "metadata": {},
   "outputs": [
    {
     "name": "stdout",
     "output_type": "stream",
     "text": [
      "[[-2.32332363  1.03632767 -1.49273445]\n",
      " [ 2.92605112 -0.96720843  1.15527658]]\n"
     ]
    }
   ],
   "source": [
    "#loc - (Mean) where the peak of the bell exists.\n",
    "#scale - (Standard Deviation) how flat the graph distribution should be.\n",
    "#size - The shape of the returned array.\n",
    "from numpy import random\n",
    "x = random.normal(loc=1, scale=2, size=(2, 3))\n",
    "print(x)"
   ]
  },
  {
   "cell_type": "code",
   "execution_count": null,
   "id": "dd89bed6",
   "metadata": {},
   "outputs": [],
   "source": []
  }
 ],
 "metadata": {
  "kernelspec": {
   "display_name": "Python 3 (ipykernel)",
   "language": "python",
   "name": "python3"
  },
  "language_info": {
   "codemirror_mode": {
    "name": "ipython",
    "version": 3
   },
   "file_extension": ".py",
   "mimetype": "text/x-python",
   "name": "python",
   "nbconvert_exporter": "python",
   "pygments_lexer": "ipython3",
   "version": "3.9.12"
  }
 },
 "nbformat": 4,
 "nbformat_minor": 5
}
